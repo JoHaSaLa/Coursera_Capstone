{
 "cells": [
  {
   "cell_type": "markdown",
   "metadata": {},
   "source": [
    "## Capstone Project - The Battle of Neighborhoods"
   ]
  },
  {
   "cell_type": "markdown",
   "metadata": {},
   "source": [
    "### 1.  Introduction and Problemdescription"
   ]
  },
  {
   "cell_type": "markdown",
   "metadata": {},
   "source": [
    "In this project we'll analyze Data of New York City and its facilities. The purpose is to find business opportunities. Therefor we check what kind of facilites are in NYC and how popular they are. In the next step we will choose one kind of facility and search for good neighborhoods which are lacking of that kind of facility to open a new one. As you will see we decided to focus on restaurants, because its typical for New Yorker people to go out and eat instead of cooking for themselfs"
   ]
  },
  {
   "cell_type": "markdown",
   "metadata": {},
   "source": [
    "### 2. Target Audience\n",
    "The target audience for this report are people who are looking for a new business idea. Especially peolpe of gastronomy could be interested in this report, or (german) people who want to migrate to NYC.  "
   ]
  },
  {
   "cell_type": "markdown",
   "metadata": {},
   "source": [
    "### 3. Data Selection"
   ]
  },
  {
   "cell_type": "markdown",
   "metadata": {},
   "source": [
    "Beside foursquare data to get more detailed information about the specific kind of restaurant, we use a data set from Dingqi Yang. Those are based on Foursquare as well and include information like Checkin data for restaurants, bars... The columns are: \n",
    "<ol> \n",
    "    <li>User ID (anonymized) </li>\n",
    "    <li>Venue ID (Foursquare) </li>\n",
    "    <li>Venue category ID (Foursquare) </li>\n",
    "    <li>Venue category name (Fousquare) </li>\n",
    "    <li>Latitude </li>\n",
    "    <li>Longitude </li>\n",
    "    <li>Timezone offset in minutes (The offset in minutes between when this check-in occurred and the same time in UTC) </li>\n",
    "    <li> UTC time</li>\n",
    "</ol>\n",
    "\n",
    "\n",
    "You can find that specifc Data set and even more using this link: \n",
    "<a href=\"https://sites.google.com/site/yangdingqi/home/foursquare-dataset\">Data set from Dingqi Yang</a>\n",
    "\n",
    "This Data set contains roundabout 30k rows (venues). We only use 5k of them in order to get a better overview and a more readable map.\n",
    "\n",
    "<br>\n",
    "As mentioned we use foursquare data as well. That is because those dataset from Yang is quite old(2012) but it contains good information about the visitor numbers and the most uptodate data from foursquare doesnt. We use the data from yang (of the year 2012) and predict good business opportuniets and after that we will get some more information about possible opportunities using foursquare. In the end we will proof or disprove the opportunities using the most actual data from foursquare.\n",
    "<br>\n",
    "Raw Data from yang looks like that:\n",
    "\n",
    "\n",
    "<img src=\"capstone1.PNG\" />\n",
    "<br>\n",
    "We focus on restaurants and their number of visitors:  \n",
    "\n",
    "<img src=\"capstone2.PNG\" />\n",
    "\n",
    "\n",
    "\n",
    "\n",
    "As you can see the German restaurants is in the top 20 list, so there is a certain demand on german food in NYC. Me as a german guy makes this happy and because of that i want to focus on them. "
   ]
  },
  {
   "cell_type": "code",
   "execution_count": null,
   "metadata": {},
   "outputs": [],
   "source": []
  },
  {
   "cell_type": "code",
   "execution_count": null,
   "metadata": {},
   "outputs": [],
   "source": []
  },
  {
   "cell_type": "code",
   "execution_count": null,
   "metadata": {},
   "outputs": [],
   "source": [
   ]
  }
 ],
 "metadata": {
  "kernelspec": {
   "display_name": "Python 3",
   "language": "python",
   "name": "python3"
  },
  "language_info": {
   "codemirror_mode": {
    "name": "ipython",
    "version": 3
   },
   "file_extension": ".py",
   "mimetype": "text/x-python",
   "name": "python",
   "nbconvert_exporter": "python",
   "pygments_lexer": "ipython3",
   "version": "3.7.7"
  }
 },
 "nbformat": 4,
 "nbformat_minor": 4
}
