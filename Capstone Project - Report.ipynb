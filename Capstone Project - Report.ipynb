{
 "cells": [
  {
   "cell_type": "markdown",
   "metadata": {},
   "source": [
    "## Capstone Project - The Battle of Neighborhoods"
   ]
  },
  {
   "cell_type": "markdown",
   "metadata": {},
   "source": [
    "### 1.  Introduction"
   ]
  },
  {
   "cell_type": "markdown",
   "metadata": {},
   "source": [
    "In this project we'll analyze Data of New York City and its facilities. The purpose is to find business opportunities. Therefor we check what kind of facilites are in NYC and how popular they are. In the next step we will choose one kind of facility and search for good neighborhoods which are lacking of that kind of facility to open a new one. As you will see we decided to focus on restaurants, because its typical for New Yorker people to go out and eat instead of cooking for themselfs"
   ]
  },
  {
   "cell_type": "markdown",
   "metadata": {},
   "source": [
    "### 2. Target Audience"
   ]
  },
  {
   "cell_type": "markdown",
   "metadata": {},
   "source": [
    "The target audience for this report are people who are looking for a new business idea. Especially peolpe of gastronomy could be interested in this report, or (german) people who want to migrate to NYC.  "
   ]
  },
  {
   "cell_type": "markdown",
   "metadata": {},
   "source": [
    "### 3. Data Selection"
   ]
  },
  {
   "cell_type": "markdown",
   "metadata": {},
   "source": [
    "Beside foursquare data to get more detailed information about the specific kind of restaurant, we use a data set from Dingqi Yang. Those are based on Foursquare as well and include information like Checkin data for restaurants, bars... The columns are: \n",
    "<ol> \n",
    "    <li>User ID (anonymized) </li>\n",
    "    <li>Venue ID (Foursquare) </li>\n",
    "    <li>Venue category ID (Foursquare) </li>\n",
    "    <li>Venue category name (Fousquare) </li>\n",
    "    <li>Latitude </li>\n",
    "    <li>Longitude </li>\n",
    "    <li>Timezone offset in minutes (The offset in minutes between when this check-in occurred and the same time in UTC) </li>\n",
    "    <li> UTC time</li>\n",
    "</ol>\n",
    "\n",
    "\n",
    "You can find that specifc Data set and even more using this link: \n",
    "<a href=\"https://sites.google.com/site/yangdingqi/home/foursquare-dataset\">Data set from Dingqi Yang</a>\n",
    "\n",
    "This Data set contains roundabout 30k rows (venues). We only use 5k of them in order to get a better overview and a more readable map.\n",
    "\n",
    "<br>\n",
    "As mentioned we use foursquare data as well. That is because those dataset from Yang is quite old(2012) but it contains good information about the visitor numbers and the most uptodate data from foursquare doesnt. We use the data from yang (of the year 2012) and predict good business opportuniets and after that we will get some more information about possible opportunities using foursquare In the end we will proof or disprove the opportunities using the most actual data from foursquare.\n",
    "<br>\n",
    "Raw Data from yang looks like that:\n",
    "\n",
    "\n",
    "![title](capstone1.png)\n",
    "\n",
    "<br>\n",
    "We focus on restaurants and their number of visitors:  \n",
    "\n",
    "\n",
    "![title](capstone2.png)\n",
    "\n",
    "\n",
    "As you can see the German restaurants is in the top 20 list, so there is a certain demand on german food in NYC. Me as a german guy makes this happy and because of that i want to focus on them. "
   ]
  },
  {
   "cell_type": "markdown",
   "metadata": {},
   "source": [
    "### 4. Data Methodology"
   ]
  },
  {
   "cell_type": "markdown",
   "metadata": {},
   "source": [
    "We first filter all the data on restaurants only and visualize them on a folium map to get a frist impression of the distribution of restaurants depending on the neighborhood. The <span style=\"color:blue\">blue</span> dots symbolize restaurants and the three <span style=\"color:red\">red</span>. dots symbolize the three german restaurants.\n",
    "\n",
    "![title](capstone3.png)\n",
    "\n",
    "As you can see those german restaurants are quite fare away. So the approch is the get the midpoints between the german restaurants. We'll circle a area around them and count the restaurants in this area and with them get the number of total visitors in the specific circles. Because we live on a sphere and not on a flat earth we need to calculate mindpoints and circles using longitude and latitude. Therefor we use the so called \n",
    "<a href=\"https://en.wikipedia.org/wiki/Haversine_formula\">Haversine Formula</a>. You can find an interesting post on stackoverflow using this <a href=\"https://stackoverflow.com/questions/27928/calculate-distance-between-two-latitude-longitude-points-haversine-formula?page=1&tab=votes#tab-top\">link</a>. \n",
    " \n",
    "Using the data from above we want to get more information of those german restaurants using foursquare. Sadly there are no comments or ratings. In the end we use foursquare information the check whether those restaurants are still alive in 2020 and if there are new one, if they are in the predicted area."
   ]
  },
  {
   "cell_type": "markdown",
   "metadata": {},
   "source": [
    "### 5. Result Section"
   ]
  },
  {
   "cell_type": "markdown",
   "metadata": {},
   "source": [
    "Using the midpoints and circled area we get the following map of New York City: \n",
    "\n",
    "![title](capstone4.png)\n",
    "\n",
    "As you can see in each midpoint areas within a radius of 4000m there are restaurants in it. Especially the makred one is interessting because there seems to be a high demand on restaurants and there is no german restaurant or foodtruck in this area. \n",
    "<br> \n",
    "The recommandation for a german restaurant to open is in this area i would say. \n",
    "Lets varify this assumption using the most actual data form foursquare. Lets see if in the past year a german restaurant did open in this neighborhood\n",
    "\n",
    "![title](capstone8.png)\n",
    "\n",
    "As we can see there did open german restaurant in this area. Three within the raidus and one close to this neighborhood more southern. This proofs the attrativity of this area. But we also see that the three \"old\" German restaurants did close. Maybe due to the covid 19 pandemie and the hard lockdown in the beginning of the year. \n",
    "Anyhow using the todays data we see that there are at least three german restaurants in the predicted area. Sadly i didnt find more detail information about the number of visitor of these restaurants.\n",
    "\n",
    "<br> By using the map above with all restaurants, we clearly can see that the souther part of manhatten is the most attractive one when it comes to restaurants, food trucks and so on. Because of the extremly high square meter price its often too expensive to open a real restaurant so its more popular to sell food in trucks there. More nothern, in the direction of the central park we can see that the restaurant density increases.\n",
    "<br> Overall the map above (with foursquare data of 2020) proofed the prediced area using the Data form Yang (of 2012). "
   ]
  },
  {
   "cell_type": "markdown",
   "metadata": {},
   "source": [
    "### 6. Discussion Section"
   ]
  },
  {
   "cell_type": "markdown",
   "metadata": {},
   "source": [
    "The major purpose of this profect was to find good business opportuniets for opening a german restaurant in NYC. We saw that the german restaurant is in the top 20 most popular restaurants and that there were only 3 german restaurants in 2012 which were quite far away of the most popular location of restaurants, downtonw in manhattan. \n",
    "Using the midpoint, calculated with Haversine Formula, we predicted possible areas to open a new restaurant and with counting the overall number of visitors within those ares we've spotted the best area. This assumption we proofed by using the foursquare data of end of 2020. \n",
    "<br> \n",
    "By using data of 2020 with something like a visitor count or checking data of each restaurant we could do such in analysis in 2020, too, but in fact there is no such data free available. "
   ]
  },
  {
   "cell_type": "markdown",
   "metadata": {},
   "source": [
    "#### 6.1 Future Work\n",
    "\n",
    "As mentioned, this analysis could be done in 2020, too by using the foursquare data, if there would be another column like \"Check-in\" or \"Number of visitors\". \n",
    "<br> \n",
    "Another good thing to add would be an average square meter price for renting a restaurant and with that we could analyize the best neighborhood within a given area. Therefor you could check the avergage price within such a circle above. The neighborhood with the least expensive neighborhood could be the most interessting one. Sadly no such data is availabe for free"
   ]
  },
  {
   "cell_type": "markdown",
   "metadata": {},
   "source": [
    "### Sources and Libraries\n",
    "\n"
   ]
  },
  {
   "cell_type": "code",
   "execution_count": null,
   "metadata": {},
   "outputs": [],
   "source": []
  }
 ],
 "metadata": {
  "kernelspec": {
   "display_name": "Python 3",
   "language": "python",
   "name": "python3"
  },
  "language_info": {
   "codemirror_mode": {
    "name": "ipython",
    "version": 3
   },
   "file_extension": ".py",
   "mimetype": "text/x-python",
   "name": "python",
   "nbconvert_exporter": "python",
   "pygments_lexer": "ipython3",
   "version": "3.7.7"
  }
 },
 "nbformat": 4,
 "nbformat_minor": 4
}
